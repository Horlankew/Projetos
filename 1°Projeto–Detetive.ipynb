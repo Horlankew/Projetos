{
  "nbformat": 4,
  "nbformat_minor": 0,
  "metadata": {
    "colab": {
      "name": "1°Projeto– Detetive.ipynb",
      "provenance": [],
      "collapsed_sections": [],
      "include_colab_link": true
    },
    "kernelspec": {
      "name": "python3",
      "display_name": "Python 3"
    },
    "language_info": {
      "name": "python"
    }
  },
  "cells": [
    {
      "cell_type": "markdown",
      "metadata": {
        "id": "view-in-github",
        "colab_type": "text"
      },
      "source": [
        "<a href=\"https://colab.research.google.com/github/Horlankew/Projetos/blob/main/1%C2%B0Projeto%E2%80%93Detetive.ipynb\" target=\"_parent\"><img src=\"https://colab.research.google.com/assets/colab-badge.svg\" alt=\"Open In Colab\"/></a>"
      ]
    },
    {
      "cell_type": "markdown",
      "metadata": {
        "id": "IDLowysSuKqw"
      },
      "source": [
        "### **Projeto 01 – Detetive**\n"
      ]
    },
    {
      "cell_type": "code",
      "metadata": {
        "id": "psRLptFptCvE",
        "colab": {
          "base_uri": "https://localhost:8080/"
        },
        "outputId": "910f1a78-5f0e-4d3c-83e0-0319daff297a"
      },
      "source": [
        "print(\"Responda as perguntas honestamente e de modo claro ao Detetive Horlan com apenas Sim ou Não: \") # Elaborar as perguntas\n",
        "\n",
        "pergunta_1=str(input(\"Você telefonou para a vítima? \\n\").upper().strip())\n",
        "pergunta_2=str(input(\"Você esteve no local do crime? \\n\").upper().strip())\n",
        "pergunta_3=str(input(\"Você mora perto da vítima? \\n\").upper().strip())\n",
        "pergunta_4=str(input(\"Você devia para a vítima? \\n\").upper().strip())\n",
        "pergunta_5=str(input(\"Você já trabalhou com a vítima? \\n\").upper().strip()) #receber as perguntas\n",
        "\n",
        "respostas=pergunta_1 + pergunta_2 + pergunta_3 + pergunta_4 + pergunta_5 #contar as respostas\n",
        "respostas.count(\"SIM\")\n",
        "\n",
        "if respostas.count(\"SIM\") <= 1:\n",
        "   print(\"Inocente, você está liberado(a), tenha um ótimo dia.\")\n",
        "elif  respostas.count (\"SIM\") == 2:\n",
        "  print(\"Suspeito(a) pode ser coincidência, mas você está sobre Suspeita, não saía da cidade pelos próximos dias, vamos entrar em contato caso precise de mais informações.\")\n",
        "elif   respostas.count (\"SIM\") <=4:\n",
        "  print(\"Cúmplice. Você acaba de se tornar Cúmplice no assassinato da irmã da BLUE, \\nAguarde um momento vou chamar meu parceiro Thiago.\")\n",
        "else:\n",
        "    print(\"\\\"Assassino\\\". \\n Policiais prendam o Assassinos.\")\n",
        "\n"
      ],
      "execution_count": 92,
      "outputs": [
        {
          "output_type": "stream",
          "text": [
            "Responda as perguntas honestamente e de modo claro ao Detetive Horlan com apenas Sim ou Não: \n",
            "Você telefonou para a vítima? \n",
            "sim\n",
            "Você esteve no local do crime? \n",
            "sim\n",
            "Você mora perto da vítima? \n",
            "sim\n",
            "Você devia para a vítima? \n",
            "sim\n",
            "Você já trabalhou com a vítima? \n",
            "sim\n",
            "\"Assassino\". \n",
            "Policiais prendam o Assassino.\n"
          ],
          "name": "stdout"
        }
      ]
    },
    {
      "cell_type": "code",
      "metadata": {
        "id": "cJAq69KwjlGf"
      },
      "source": [
        " print('''   MÐJJ3JJJJJJJJJMA                                                         \n",
        "    MJJJJJJJJJJJJJJJJJ3JCM                                                      \n",
        "  WJJJJJJJJJJJJJJJJJJJJJJJ3M                                                    \n",
        "MJJJJJJJJJJJJJJJJJJJJJJJJJ33C$                                    ($$=.         \n",
        "JJJJJJJJJJJJJJJJJJJJJJJJJJJJJJ$                             \"MCJJJJ3JJJ3JJ@M    \n",
        "JJJJJJJJJJJJJJJJJJJJJJJJJJJJJJCW                          M3JJJJJJJJJJJJJJJJJCM$\n",
        "JJJJJJJJJJJJJ3JJJJJJJJJJJJJJJJJ%        ®‘              M3JJJJJJJJJJJJJJJJJJJJ3J\n",
        "JM*‘‘‘.‘.‘‘.MÐJJJJJJJJJJJJJJJJJJ$M$JJMCJ3®5JJJ5M      .WJJJJJJJJJJJJJJJJJJJJJJJJ\n",
        "*.‘‘‘‘‘‘‘‘‘‘‘‘.¦ÐJJJJJJJJJJJ3JMCJ3JMJ@#JJJAMW3JJJJ$!  #JJJJJJJJJJJJJJJJJJJJJJJJJ\n",
        "‘‘‘‘‘‘‘‘‘‘‘‘‘‘‘‘\"‘M3JJJJJJJJ33JJJJJ3J33JJJJJJJJJJ3M5 ®3JJJJJJJJJJJJJJJJJJJJJJJJJ\n",
        "‘‘‘‘‘‘‘‘‘‘‘‘‘‘‘\"..(®3337‘J3JJJJJJJJJJJJJJJJJJJJJJJJJJJ3JJJJJJJJJJJJJJJJJJJJJJJJJ\n",
        "\"‘‘‘‘‘‘‘‘‘‘‘‘‘.$MM. ..... 33JJJJJJJJJJJJJJJJJJJJJJJJJJJJJJJJJJJJJJJJ3JJ5MM®MMÐJJ\n",
        "5.‘‘‘‘‘‘‘‘‘‘‘‘‘‘ ..........7JJJJJJJJJJJJJJJJJJJJJJJJJJJJJJJJJJJJJ3C®.\"‘‘‘‘‘‘‘‘‘‘\n",
        "=$‘‘‘‘‘‘‘‘‘‘‘ .......... . .7JJJJJJJJJJJJJJJJJJJJJJJJJJJJJJJJJJJJM‘\".‘‘‘‘‘‘‘‘‘‘‘\n",
        "  MM.‘‘‘‘‘‘ ..................JJ3JJJJJJJJJJJJJJJJJJJJJJJJJJJJJJJJJJJ3C¦‘‘‘‘‘‘‘‘‘\n",
        "  . ®3®*‘................... ..‘JJJJJJJJJJJJJJJJJJJJJJJJJJJJJJJJJJ3JM..‘‘‘‘‘‘‘‘‘\n",
        "       .®......................  CJJJJJJJJJJJJJJJJJJJJJJJJJJJJJJJJ37‘‘‘‘‘‘‘‘‘‘‘‘\n",
        "       . ......  =®®®®®®.  ........33JJJJJJJJJJJJJJJJJJJJJJJJJJJJJJJ7‘‘‘‘‘‘‘‘‘‘‘\n",
        "      A\"..... ®®®®®®®W=$®®®.........‘3JJJJJJJJJJJJJJJJJJJJJJJJJJJJJJJ7‘.‘‘‘‘‘‘‘‘\n",
        "     $  .... M®®®®5        ® ..........CJJJJJJJJJJJJJJJJ3J3JJJJJJJJJJJC‘‘‘‘‘‘‘‘‘\n",
        "    A... .. ®®$W®M          ® ...........‘3JJJ3JJJ3JC®®®®®®MM#JJJJJJJJJ3‘.‘‘\"(MC\n",
        "   = ......®M   \"®          ® ............ .C33JJJ@M®M®(‘$®®M®®®%JJJJJJ3$$#M®=  \n",
        "   *...... ®®®®®®®(        ®®.................‘JJM®M        $®®®®®3JJJJJC       \n",
        "  M........*M‘    .®®(.‘M®M® ...................‘M®          (®®®®®JJJJJJW      \n",
        " ® .........W.     ®®®®®®®® ....................®®M           ®®®®®#JJJJJM      \n",
        "W$‘  ‘. ....... . ®M®®®®® ..................... 5®®          ®$ .®®MJJJJJ5      \n",
        "M ... .5® ...... =®®®$ ...............  ........ ®MMM       ®®   $®MJJJJJJ      \n",
        "®........ .$5 ...................(\"‘‘*.. ........\"M®®®®®®®5    M®®®J3JJJJ3=     \n",
        "$ ......................... .....................  ®®®®®®®      M®..‘JJ3JJ5     \n",
        "$..  ..  .. .............‘ ......................... M®®®® .  . \" .......‘W     \n",
        "®®.................. .. ‘$..............................     ........... .$     \n",
        "M...................... \" ................................   ($A$=‘ ....  .     \n",
        " =..................... M........ .. .................................   $      \n",
        " = ..................... *®  . .$M$\".. ..W ............... .  .......... ®      \n",
        "  W ‘........ ................ .$¦*M...  .................  (®W‘. ......W.      \n",
        "   ® .......‘M\"*\"®.............. =W .......................... ..*®. ..‘ .      \n",
        "    .\".....®******®................................................   M         \n",
        "     %J‘..M*******®................................®W$A®...........  A          \n",
        "    ®JJ‘. W*****A5................................W******® ........®            \n",
        "   ‘C3. ...AA*$®. .............................. $********! .....J3C            \n",
        "   ®J. ....... ‘................................ ®********.... ...CJM.          \n",
        "  AC... ..........................................®******=........ 7J5          \n",
        "  #... ...........................................‘    ........... .‘@          \n",
        " M...................................................................¦$         \n",
        " M ............................................................... ...®$$       \n",
        "  ....................................................................A***W     \n",
        ". ....................................................................(¦*=      \n",
        " M....................................................................®(A‘      \n",
        " WW..................................................................$ ‘        \n",
        "\"**M. . ............ ...              . ..  .  ....................‘®           \n",
        "\"*‘M***$W®W5A$=(*                             .=®®$.  .  ........\"M‘® .         \n",
        "$ ¦**W®                                                    . ®\"*******A$        \n",
        "                                                               W¦*®¦*\"®5W       \n",
        "                                                                  A  . .  ''')  "
      ],
      "execution_count": null,
      "outputs": []
    }
  ]
}